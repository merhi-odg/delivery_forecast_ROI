{
 "cells": [
  {
   "cell_type": "code",
   "execution_count": null,
   "metadata": {},
   "outputs": [],
   "source": [
    "import pandas\n",
    "import json\n",
    "\n",
    "\n",
    "# modelop.init\n",
    "def init() -> None:\n",
    "    \"\"\"A function to load cost parameters and field names as global vars.\"\"\"\n",
    "\n",
    "    # Load cost constants and field names as global variables\n",
    "    global COST_OF_ONE_SURPLUS, COST_OF_ONE_DEFICIT, COST_OF_ONE_MODEL_INFERENCE, COST_OF_ONE_HUMAN_INFERENCE\n",
    "    global ACTUALS_FIELD, MODEL_PRED_FIELD, HUMAN_PRED_FIELD\n",
    "\n",
    "    model_parameters = json.load(open(\"./model_parameters.json\", \"r\"))\n",
    "    COST_OF_ONE_SURPLUS = model_parameters.get(\"COST_OF_ONE_SURPLUS\")\n",
    "    COST_OF_ONE_DEFICIT = model_parameters.get(\"COST_OF_ONE_DEFICIT\")\n",
    "    COST_OF_ONE_MODEL_INFERENCE = model_parameters.get(\"COST_OF_ONE_MODEL_INFERENCE\")\n",
    "    COST_OF_ONE_HUMAN_INFERENCE = model_parameters.get(\"COST_OF_ONE_HUMAN_INFERENCE\")\n",
    "\n",
    "    ACTUALS_FIELD = model_parameters.get(\"ACTUALS_FIELD\")\n",
    "    MODEL_PRED_FIELD = model_parameters.get(\"MODEL_PRED_FIELD\")\n",
    "    HUMAN_PRED_FIELD = model_parameters.get(\"HUMAN_PRED_FIELD\")\n",
    "\n",
    "\n",
    "# modelop.metrics\n",
    "def metrics(data: pandas.DataFrame) -> dict:\n",
    "    \"\"\"A function to compute ROI metrics on input data\n",
    "\n",
    "    Args:\n",
    "        data (pandas.DataFrame): Input data containing model and human forecasts,\n",
    "            as well as actuals.\n",
    "\n",
    "    Returns:\n",
    "        dict: Cost-performance metrics and overall ROI.\n",
    "    \"\"\"\n",
    "\n",
    "    # Calculate over/under predictions by model and humans\n",
    "    data[\"model_surplus\"] = (data[MODEL_PRED_FIELD] - data[ACTUALS_FIELD]).clip(0)\n",
    "    data[\"model_deficit\"] = (data[ACTUALS_FIELD] - data[MODEL_PRED_FIELD]).clip(0)\n",
    "\n",
    "    data[\"human_surplus\"] = (data[HUMAN_PRED_FIELD] - data[ACTUALS_FIELD]).clip(0)\n",
    "    data[\"human_deficit\"] = (data[ACTUALS_FIELD] - data[HUMAN_PRED_FIELD]).clip(0)\n",
    "\n",
    "    # Assign a dollar amount to each forecast\n",
    "    data[[\"model_surplus\", \"human_surplus\"]] *= COST_OF_ONE_SURPLUS\n",
    "    data[[\"model_deficit\", \"human_deficit\"]] *= COST_OF_ONE_DEFICIT\n",
    "\n",
    "    # Multiply by operation cost\n",
    "    data[[\"model_surplus\", \"model_deficit\"]] *= COST_OF_ONE_MODEL_INFERENCE\n",
    "    data[[\"human_surplus\", \"human_deficit\"]] *= COST_OF_ONE_HUMAN_INFERENCE\n",
    "\n",
    "    # Compute totals\n",
    "    sums = data.sum(axis=0)\n",
    "\n",
    "    model_surplus_total = sums[\"model_surplus\"]\n",
    "    model_deficit_total = sums[\"model_deficit\"]\n",
    "    human_surplus_total = sums[\"human_surplus\"]\n",
    "    human_deficit_total = sums[\"human_deficit\"]\n",
    "\n",
    "    model_total_cost = model_surplus_total + model_deficit_total\n",
    "    human_total_cost = human_surplus_total + human_deficit_total\n",
    "\n",
    "    return {\n",
    "        # Top-level key metrics\n",
    "        \"is_model_more_effective\": bool(human_total_cost - model_total_cost >= 0),\n",
    "        \"cost_savings_by_model\": human_total_cost - model_total_cost,\n",
    "        # More in-depth view\n",
    "        \"business_value\": [\n",
    "            {\n",
    "                \"test_name\": \"Actual ROI\",\n",
    "                \"test_category\": \"business_value\",\n",
    "                \"test_type\": \"actual_roi\",\n",
    "                \"test_id\": \"business_value_actual_roi\",\n",
    "                \"values\": {\n",
    "                    \"model_surplus_total\": model_surplus_total,\n",
    "                    \"model_deficit_total\": model_deficit_total,\n",
    "                    \"human_surplus_total\": human_surplus_total,\n",
    "                    \"human_deficit_total\": human_deficit_total,\n",
    "                    \"model_total_cost\": model_total_cost,\n",
    "                    \"human_total_cost\": human_total_cost,\n",
    "                    \"is_model_more_effective\": bool(\n",
    "                        human_total_cost - model_total_cost >= 0\n",
    "                    ),\n",
    "                    \"cost_savings_by_model\": human_total_cost - model_total_cost,\n",
    "                },\n",
    "            }\n",
    "        ],\n",
    "    }\n"
   ]
  },
  {
   "cell_type": "code",
   "execution_count": null,
   "metadata": {},
   "outputs": [],
   "source": [
    "# Load params\n",
    "init()"
   ]
  },
  {
   "cell_type": "code",
   "execution_count": null,
   "metadata": {},
   "outputs": [],
   "source": [
    "# read sample data\n",
    "data = pandas.read_json(\"sample_data.json\", lines=True)"
   ]
  },
  {
   "cell_type": "code",
   "execution_count": null,
   "metadata": {},
   "outputs": [],
   "source": [
    "data.head()"
   ]
  },
  {
   "cell_type": "code",
   "execution_count": null,
   "metadata": {},
   "outputs": [],
   "source": [
    "results = metrics(data)"
   ]
  },
  {
   "cell_type": "code",
   "execution_count": null,
   "metadata": {},
   "outputs": [],
   "source": [
    "results"
   ]
  },
  {
   "cell_type": "code",
   "execution_count": null,
   "metadata": {},
   "outputs": [],
   "source": [
    "pandas.DataFrame([results[\"business_value\"][0][\"values\"]])"
   ]
  },
  {
   "cell_type": "code",
   "execution_count": null,
   "metadata": {},
   "outputs": [],
   "source": []
  }
 ],
 "metadata": {
  "kernelspec": {
   "display_name": "Python 3.9.12 64-bit",
   "language": "python",
   "name": "python3"
  },
  "language_info": {
   "codemirror_mode": {
    "name": "ipython",
    "version": 3
   },
   "file_extension": ".py",
   "mimetype": "text/x-python",
   "name": "python",
   "nbconvert_exporter": "python",
   "pygments_lexer": "ipython3",
   "version": "3.9.12"
  },
  "orig_nbformat": 4,
  "vscode": {
   "interpreter": {
    "hash": "aee8b7b246df8f9039afb4144a1f6fd8d2ca17a180786b69acc140d282b71a49"
   }
  }
 },
 "nbformat": 4,
 "nbformat_minor": 2
}
