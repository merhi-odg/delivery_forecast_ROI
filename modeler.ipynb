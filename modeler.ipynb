{
 "cells": [
  {
   "cell_type": "code",
   "execution_count": 8,
   "metadata": {},
   "outputs": [],
   "source": [
    "import pandas\n",
    "import json\n",
    "\n",
    "\n",
    "# modelop.init\n",
    "def init() -> None:\n",
    "    \"\"\"A function to load cost parameters and field names as global vars.\"\"\"\n",
    "\n",
    "    # Load cost constants and field names as global variables\n",
    "    global COST_OF_ONE_SURPLUS, COST_OF_ONE_DEFICIT, COST_OF_ONE_MODEL_INFERENCE, COST_OF_ONE_HUMAN_INFERENCE\n",
    "    global ACTUALS_FIELD, MODEL_PRED_FIELD, HUMAN_PRED_FIELD\n",
    "\n",
    "    model_parameters = json.load(open(\"./model_parameters.json\", \"r\"))\n",
    "    COST_OF_ONE_SURPLUS = model_parameters.get(\"COST_OF_ONE_SURPLUS\")\n",
    "    COST_OF_ONE_DEFICIT = model_parameters.get(\"COST_OF_ONE_DEFICIT\")\n",
    "    COST_OF_ONE_MODEL_INFERENCE = model_parameters.get(\"COST_OF_ONE_MODEL_INFERENCE\")\n",
    "    COST_OF_ONE_HUMAN_INFERENCE = model_parameters.get(\"COST_OF_ONE_HUMAN_INFERENCE\")\n",
    "\n",
    "    ACTUALS_FIELD = model_parameters.get(\"ACTUALS_FIELD\")\n",
    "    MODEL_PRED_FIELD = model_parameters.get(\"MODEL_PRED_FIELD\")\n",
    "    HUMAN_PRED_FIELD = model_parameters.get(\"HUMAN_PRED_FIELD\")\n",
    "\n",
    "\n",
    "# modelop.metrics\n",
    "def metrics(data: pandas.DataFrame) -> dict:\n",
    "    \"\"\"A function to compute ROI metrics on input data\n",
    "\n",
    "    Args:\n",
    "        data (pandas.DataFrame): Input data containing model and human forecasts,\n",
    "            as well as actuals.\n",
    "\n",
    "    Returns:\n",
    "        dict: Cost-performance metrics and overall ROI.\n",
    "    \"\"\"\n",
    "\n",
    "    # Calculate over/under predictions by model and humans\n",
    "    data[\"model_surplus\"] = (data[MODEL_PRED_FIELD] - data[ACTUALS_FIELD]).clip(0)\n",
    "    data[\"model_deficit\"] = (data[ACTUALS_FIELD] - data[MODEL_PRED_FIELD]).clip(0)\n",
    "\n",
    "    data[\"human_surplus\"] = (data[HUMAN_PRED_FIELD] - data[ACTUALS_FIELD]).clip(0)\n",
    "    data[\"human_deficit\"] = (data[ACTUALS_FIELD] - data[HUMAN_PRED_FIELD]).clip(0)\n",
    "\n",
    "    # Assign a dollar amount to each forecast\n",
    "    data[[\"model_surplus\", \"human_surplus\"]] *= COST_OF_ONE_SURPLUS\n",
    "    data[[\"model_deficit\", \"human_deficit\"]] *= COST_OF_ONE_DEFICIT\n",
    "\n",
    "    # Compute totals\n",
    "    sums = data.sum(axis=0)\n",
    "\n",
    "    model_surplus_total = sums[\"model_surplus\"]\n",
    "    model_deficit_total = sums[\"model_deficit\"]\n",
    "    human_surplus_total = sums[\"human_surplus\"]\n",
    "    human_deficit_total = sums[\"human_deficit\"]\n",
    "\n",
    "    # Add Operation Cost\n",
    "    model_total_cost = model_surplus_total + model_deficit_total + COST_OF_ONE_MODEL_INFERENCE*data.shape[0]\n",
    "    human_total_cost = human_surplus_total + human_deficit_total + COST_OF_ONE_HUMAN_INFERENCE*data.shape[0]\n",
    "\n",
    "    return {\n",
    "        # Top-level key metrics\n",
    "        \"is_model_more_effective\": bool(human_total_cost - model_total_cost >= 0),\n",
    "        \"cost_savings_by_model\": human_total_cost - model_total_cost,\n",
    "        # More in-depth view\n",
    "        \"business_value\": [\n",
    "            {\n",
    "                \"test_name\": \"Actual ROI\",\n",
    "                \"test_category\": \"business_value\",\n",
    "                \"test_type\": \"actual_roi\",\n",
    "                \"test_id\": \"business_value_actual_roi\",\n",
    "                \"values\": {\n",
    "                    \"model_surplus_total\": model_surplus_total,\n",
    "                    \"model_deficit_total\": model_deficit_total,\n",
    "                    \"human_surplus_total\": human_surplus_total,\n",
    "                    \"human_deficit_total\": human_deficit_total,\n",
    "                    \"model_total_cost\": model_total_cost,\n",
    "                    \"human_total_cost\": human_total_cost,\n",
    "                    \"is_model_more_effective\": bool(\n",
    "                        human_total_cost - model_total_cost >= 0\n",
    "                    ),\n",
    "                    \"cost_savings_by_model\": human_total_cost - model_total_cost,\n",
    "                },\n",
    "            }\n",
    "        ],\n",
    "    }\n"
   ]
  },
  {
   "cell_type": "code",
   "execution_count": 9,
   "metadata": {},
   "outputs": [],
   "source": [
    "# Load params\n",
    "init()"
   ]
  },
  {
   "cell_type": "code",
   "execution_count": 10,
   "metadata": {},
   "outputs": [],
   "source": [
    "# read sample data\n",
    "data = pandas.read_json(\"sample_data.json\", lines=True)"
   ]
  },
  {
   "cell_type": "code",
   "execution_count": 11,
   "metadata": {},
   "outputs": [
    {
     "data": {
      "text/html": [
       "<div>\n",
       "<style scoped>\n",
       "    .dataframe tbody tr th:only-of-type {\n",
       "        vertical-align: middle;\n",
       "    }\n",
       "\n",
       "    .dataframe tbody tr th {\n",
       "        vertical-align: top;\n",
       "    }\n",
       "\n",
       "    .dataframe thead th {\n",
       "        text-align: right;\n",
       "    }\n",
       "</style>\n",
       "<table border=\"1\" class=\"dataframe\">\n",
       "  <thead>\n",
       "    <tr style=\"text-align: right;\">\n",
       "      <th></th>\n",
       "      <th>forecast_ID</th>\n",
       "      <th>forecast_date</th>\n",
       "      <th>actual_deliveries</th>\n",
       "      <th>predicted_deliveries</th>\n",
       "      <th>human_forecast</th>\n",
       "    </tr>\n",
       "  </thead>\n",
       "  <tbody>\n",
       "    <tr>\n",
       "      <th>0</th>\n",
       "      <td>AUG012022</td>\n",
       "      <td>08/01/2022</td>\n",
       "      <td>42</td>\n",
       "      <td>42</td>\n",
       "      <td>42</td>\n",
       "    </tr>\n",
       "    <tr>\n",
       "      <th>1</th>\n",
       "      <td>AUG022022</td>\n",
       "      <td>08/02/2022</td>\n",
       "      <td>43</td>\n",
       "      <td>44</td>\n",
       "      <td>45</td>\n",
       "    </tr>\n",
       "    <tr>\n",
       "      <th>2</th>\n",
       "      <td>AUG032022</td>\n",
       "      <td>08/03/2022</td>\n",
       "      <td>44</td>\n",
       "      <td>43</td>\n",
       "      <td>42</td>\n",
       "    </tr>\n",
       "    <tr>\n",
       "      <th>3</th>\n",
       "      <td>AUG042022</td>\n",
       "      <td>08/04/2022</td>\n",
       "      <td>45</td>\n",
       "      <td>47</td>\n",
       "      <td>49</td>\n",
       "    </tr>\n",
       "    <tr>\n",
       "      <th>4</th>\n",
       "      <td>AUG052022</td>\n",
       "      <td>08/05/2022</td>\n",
       "      <td>46</td>\n",
       "      <td>44</td>\n",
       "      <td>42</td>\n",
       "    </tr>\n",
       "  </tbody>\n",
       "</table>\n",
       "</div>"
      ],
      "text/plain": [
       "  forecast_ID forecast_date  actual_deliveries  predicted_deliveries  \\\n",
       "0   AUG012022    08/01/2022                 42                    42   \n",
       "1   AUG022022    08/02/2022                 43                    44   \n",
       "2   AUG032022    08/03/2022                 44                    43   \n",
       "3   AUG042022    08/04/2022                 45                    47   \n",
       "4   AUG052022    08/05/2022                 46                    44   \n",
       "\n",
       "   human_forecast  \n",
       "0              42  \n",
       "1              45  \n",
       "2              42  \n",
       "3              49  \n",
       "4              42  "
      ]
     },
     "execution_count": 11,
     "metadata": {},
     "output_type": "execute_result"
    }
   ],
   "source": [
    "data.head()"
   ]
  },
  {
   "cell_type": "code",
   "execution_count": 12,
   "metadata": {},
   "outputs": [],
   "source": [
    "results = metrics(data)"
   ]
  },
  {
   "cell_type": "code",
   "execution_count": 13,
   "metadata": {},
   "outputs": [
    {
     "data": {
      "text/plain": [
       "{'is_model_more_effective': True,\n",
       " 'cost_savings_by_model': 22590,\n",
       " 'business_value': [{'test_name': 'Actual ROI',\n",
       "   'test_category': 'business_value',\n",
       "   'test_type': 'actual_roi',\n",
       "   'test_id': 'business_value_actual_roi',\n",
       "   'values': {'model_surplus_total': 9000,\n",
       "    'model_deficit_total': 13500,\n",
       "    'human_surplus_total': 18000,\n",
       "    'human_deficit_total': 27000,\n",
       "    'model_total_cost': 22510,\n",
       "    'human_total_cost': 45100,\n",
       "    'is_model_more_effective': True,\n",
       "    'cost_savings_by_model': 22590}}]}"
      ]
     },
     "execution_count": 13,
     "metadata": {},
     "output_type": "execute_result"
    }
   ],
   "source": [
    "results"
   ]
  },
  {
   "cell_type": "code",
   "execution_count": 7,
   "metadata": {},
   "outputs": [
    {
     "data": {
      "text/html": [
       "<div>\n",
       "<style scoped>\n",
       "    .dataframe tbody tr th:only-of-type {\n",
       "        vertical-align: middle;\n",
       "    }\n",
       "\n",
       "    .dataframe tbody tr th {\n",
       "        vertical-align: top;\n",
       "    }\n",
       "\n",
       "    .dataframe thead th {\n",
       "        text-align: right;\n",
       "    }\n",
       "</style>\n",
       "<table border=\"1\" class=\"dataframe\">\n",
       "  <thead>\n",
       "    <tr style=\"text-align: right;\">\n",
       "      <th></th>\n",
       "      <th>model_surplus_total</th>\n",
       "      <th>model_deficit_total</th>\n",
       "      <th>human_surplus_total</th>\n",
       "      <th>human_deficit_total</th>\n",
       "      <th>model_total_cost</th>\n",
       "      <th>human_total_cost</th>\n",
       "      <th>is_model_more_effective</th>\n",
       "      <th>cost_savings_by_model</th>\n",
       "    </tr>\n",
       "  </thead>\n",
       "  <tbody>\n",
       "    <tr>\n",
       "      <th>0</th>\n",
       "      <td>9100</td>\n",
       "      <td>13600</td>\n",
       "      <td>19000</td>\n",
       "      <td>28000</td>\n",
       "      <td>22700</td>\n",
       "      <td>47000</td>\n",
       "      <td>True</td>\n",
       "      <td>24300</td>\n",
       "    </tr>\n",
       "  </tbody>\n",
       "</table>\n",
       "</div>"
      ],
      "text/plain": [
       "   model_surplus_total  model_deficit_total  human_surplus_total  \\\n",
       "0                 9100                13600                19000   \n",
       "\n",
       "   human_deficit_total  model_total_cost  human_total_cost  \\\n",
       "0                28000             22700             47000   \n",
       "\n",
       "   is_model_more_effective  cost_savings_by_model  \n",
       "0                     True                  24300  "
      ]
     },
     "execution_count": 7,
     "metadata": {},
     "output_type": "execute_result"
    }
   ],
   "source": [
    "pandas.DataFrame([results[\"business_value\"][0][\"values\"]])"
   ]
  },
  {
   "cell_type": "code",
   "execution_count": null,
   "metadata": {},
   "outputs": [],
   "source": []
  }
 ],
 "metadata": {
  "kernelspec": {
   "display_name": "Python 3.9.12 64-bit",
   "language": "python",
   "name": "python3"
  },
  "language_info": {
   "codemirror_mode": {
    "name": "ipython",
    "version": 3
   },
   "file_extension": ".py",
   "mimetype": "text/x-python",
   "name": "python",
   "nbconvert_exporter": "python",
   "pygments_lexer": "ipython3",
   "version": "3.9.12"
  },
  "orig_nbformat": 4,
  "vscode": {
   "interpreter": {
    "hash": "aee8b7b246df8f9039afb4144a1f6fd8d2ca17a180786b69acc140d282b71a49"
   }
  }
 },
 "nbformat": 4,
 "nbformat_minor": 2
}
